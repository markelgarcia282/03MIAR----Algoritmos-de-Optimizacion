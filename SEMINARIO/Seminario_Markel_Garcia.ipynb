{
  "cells": [
    {
      "cell_type": "markdown",
      "metadata": {
        "id": "view-in-github",
        "colab_type": "text"
      },
      "source": [
        "<a href=\"https://colab.research.google.com/github/markelgarcia282/03MIAR----Algoritmos-de-Optimizacion/blob/main/SEMINARIO/Seminario_Markel_Garcia.ipynb\" target=\"_parent\"><img src=\"https://colab.research.google.com/assets/colab-badge.svg\" alt=\"Open In Colab\"/></a>"
      ]
    },
    {
      "cell_type": "markdown",
      "metadata": {
        "id": "hVbXYX-RfPWh"
      },
      "source": [
        "# Algoritmos de optimización - Seminario<br>\n",
        "Nombre y Apellidos: Markel Garcia Ibarluzea  \n",
        "Github: https://github.com/markelgarcia282/03MIAR----Algoritmos-de-Optimizacion  \n",
        "Problema: Organizar los horarios de partidos de La Liga\n",
        "\n",
        "Descripción del problema:\n",
        "\n",
        "Desde la La Liga de fútbol profesional se pretende organizar los horarios de los partidos de\n",
        "liga de cada jornada. Se conocen algunos datos que nos deben llevar a diseñar un\n",
        "algoritmo que realice la asignación de los partidos a los horarios de forma que maximice la\n",
        "audiencia.\n",
        "\n",
        "(*) La respuesta es obligatoria\n",
        "\n",
        "\n",
        "\n",
        "\n",
        "\n",
        "                                        "
      ]
    },
    {
      "cell_type": "code",
      "execution_count": null,
      "metadata": {
        "id": "gDocsNkMd9j7"
      },
      "outputs": [],
      "source": [
        "from time import time\n",
        "import random\n",
        "from copy import deepcopy\n",
        "import math\n",
        "import matplotlib.pyplot as plt"
      ]
    },
    {
      "cell_type": "markdown",
      "metadata": {
        "id": "3_-exlrTgLd-"
      },
      "source": [
        "(*)¿Cuantas posibilidades hay sin tener en cuenta las restricciones?<br>\n",
        "\n",
        "\n",
        "\n",
        "¿Cuantas posibilidades hay teniendo en cuenta todas las restricciones.\n",
        "\n",
        "\n"
      ]
    },
    {
      "cell_type": "markdown",
      "metadata": {
        "id": "WfCUqJyKhPcw"
      },
      "source": [
        "Respuesta"
      ]
    },
    {
      "cell_type": "markdown",
      "metadata": {
        "id": "iq6Fe32MgpDX"
      },
      "source": [
        "Sin tener en cuenta las restricciones, el cálculo de posibilidades es equivalente a un problema de combinatoria de distribuir $n$ objetos distinguibles en $m$ recipientes distinguibles, donde $n$ son los partidos que se juegan durante la jornada (en este caso 10), y $m$ son los distintos horarios donde se pueden jugar los partidos (en este caso también 10). Para cada partido, hay $m$ posibles horarios a los que podría estar asignado, por lo que el número total de combinaciones podemos obtenerla por el principio del producto. La cantidad de posibilidades está dada por:\n",
        "\n",
        "$$Posibilidades = \\underbrace{m \\times m \\times m \\times \\dots \\times m}_\\text{n veces} = m^n = 10^{10}$$"
      ]
    },
    {
      "cell_type": "markdown",
      "metadata": {
        "id": "dzynfVJahHoY"
      },
      "source": [
        "Modelo para el espacio de soluciones<br>\n",
        "(*) ¿Cual es la estructura de datos que mejor se adapta al problema? Argumentalo.(Es posible que hayas elegido una al principio y veas la necesidad de cambiar, arguentalo)\n"
      ]
    },
    {
      "cell_type": "markdown",
      "metadata": {
        "id": "xFIJrOwKi2Ti"
      },
      "source": [
        "Respuesta"
      ]
    },
    {
      "cell_type": "markdown",
      "metadata": {
        "id": "38c-7-ejhJmA"
      },
      "source": [
        "La solución al problema estará dada por un mapa entre horarios y partidos disputados durante la jornada. Por lo tanto, en este caso utilizaremos un diccionario para guardar esta información. Este diccionario tendrá 10 llaves, que corresponderán a los horarios de la jornada, y como valor asociado cada llave tendrá una lista, que contendrá los partidos que se disputarán en ese horario. En caso de que no se dispute ningún partido en alguno de los posibles horarios, el valor asociado a esa llave será sencillamente una lista vacía.\n",
        "\n",
        "Utilizar un diccionario nos permite establecer una relación explícita entre horarios y partidos jugados en ese horario. Además, los diccionarios en python tienen una complejidad constante $\\mathcal{O}(1)$ para operaciones que necesitaremos implementar, como inserción u obtención de datos.\n",
        "\n",
        "Por otro lado, para los valores del diccionario utilizaremos listas, ya que necesitamos una estructura de datos mutable, para poder eliminar partidos de un horario e insertarlos en otro en busca de la mejor distribución posible. Otras posibles estructuras, como las tuplas, no tienen esta característica necesaria."
      ]
    },
    {
      "cell_type": "markdown",
      "metadata": {
        "id": "7Z9U2W7bi-XS"
      },
      "source": [
        "Según el modelo para el espacio de soluciones<br>\n",
        "(*)¿Cual es la función objetivo?\n",
        "\n",
        "(*)¿Es un problema de maximización o minimización?"
      ]
    },
    {
      "cell_type": "markdown",
      "metadata": {
        "id": "hBalWLM7j1_d"
      },
      "source": [
        "Respuesta"
      ]
    },
    {
      "cell_type": "markdown",
      "metadata": {
        "id": "pDA-rg3Gj5Lz"
      },
      "source": [
        "El objetivo es los partidos en entre los posibles horarios, de tal manera que se maximice la audiencia durante la jornada. Para ello, debemos tener en cuenta que la audiencia de un partido dependerá de la categoría de los equipos que la disputan (A, B o C), el horario, y si el partido se solapa con otros partidos que se juegan a la misma hora. La función que queremos optimizar será por tanto:\n",
        "\n",
        "$$\\mathcal{J} = \\sum_{h=1}^{10}\\sum_{p=1}^{P} audiencia(equipo_p^1, equipo_p^2)*CoefHorario_h*CoefSolape_h,$$\n",
        "\n",
        "donde $equipo_p^1$ y $equipo_p^2$ son el equipo 1 y 2 que participan en el partido $p$ en el horario $h$, $P$ es el número de partidos disputados a la hora $h$, y $CoefHorario_h$ y $CoefSolape_h$ son los coficientes que reducen la audiencia en base al horario en el que se juega y el número de partido en ese horario. Es decir, sumamos la audiencia de todos los partidos para cada horario, multiplicados por los coeficientes asociados al horario en el que se disputa el partido y el coeficiente de solape de partidos en ese horario. El objetivo es maximizar esta función, que es equivalente a maximizar la audiencia de la jornada. Por lo tanto, es un problema de maximización.\n",
        "\n",
        "La función objetivo depende de los números de audiencia asociados a diferentes combinaciones de categorías de equipos, y también a los coeficientes asociados a los diferentes horarios y a los solapes entre partidos. Toda esta información la escribiremos en forma de diccionarios para obtener los coeficientes necesarios a la hora de calcular la función objetivo."
      ]
    },
    {
      "cell_type": "code",
      "execution_count": null,
      "metadata": {
        "id": "FfXuQuLRd9kD"
      },
      "outputs": [],
      "source": [
        "# Audiencia base asociada a combinaciones de equipos de diferentes categorías.\n",
        "audiencia = {'CC': 0.47,\n",
        "             'BC': 0.75,\n",
        "             'BB': 0.9,\n",
        "             'AC': 1.0,\n",
        "             'AB': 1.3,\n",
        "             'AA': 2.0}\n",
        "\n",
        "# Coeficientes asociados a cada posible horario de la jornada.\n",
        "coef_horarios = {'V20': 0.4,\n",
        "                 'S12': 0.55,\n",
        "                 'S16': 0.7,\n",
        "                 'S18': 0.8,\n",
        "                 'S20': 1.0,\n",
        "                 'D12': 0.45,\n",
        "                 'D16': 0.75,\n",
        "                 'D18': 0.85,\n",
        "                 'D20': 1.0,\n",
        "                 'L20': 0.4}\n",
        "\n",
        "# Coeficientes asociados a los diferentes números de solapes entre partidos. El -1 no tiene significados lógico, lo inclyo para\n",
        "# que no haya errores al intentar obtener el coeficiente en horarios en los que no hay ningún partido.\n",
        "coef_coincidencias = {-1: 0.0, 0: 1.0, 1: 0.75, 2: 0.55, 3: 0.4, 4: 0.3, 5: 0.25, 6: 0.22, 7: 0.2, 8: 0.2, 9: 0.2}"
      ]
    },
    {
      "cell_type": "markdown",
      "metadata": {
        "id": "iZBZeAdkd9kE"
      },
      "source": [
        "Con estos coeficientes, ahora podemos escribir la función que calculará el objetivo a maximizar, en este caso la audiencia total en la jornada:"
      ]
    },
    {
      "cell_type": "code",
      "execution_count": null,
      "metadata": {
        "id": "PEXRuFxbd9kF"
      },
      "outputs": [],
      "source": [
        "def funcion_objetivo(jornada):\n",
        "    \n",
        "    audiencia_total = 0\n",
        "    \n",
        "    # Iteramo sobre todos los horarios y los partidos asociados a ese horario.\n",
        "    for horario, partidos in jornada.items():\n",
        "        \n",
        "        # Calculamos la reducción de audiencia a causa de que haya más de un partido en este horario.\n",
        "        solape = coef_coincidencias[len(partidos) - 1]\n",
        "        \n",
        "        # Para cada partido en este horario, calculamos la audiencia en base a la categoría de los equipos, y los coeficientes de solape y del horario.\n",
        "        for partido in partidos:\n",
        "            \n",
        "            audiencia_total += audiencia[partido]*coef_horarios[horario]*solape\n",
        "            \n",
        "    return audiencia_total"
      ]
    },
    {
      "cell_type": "markdown",
      "metadata": {
        "id": "rlnTYgY1j6I2"
      },
      "source": [
        "Diseña un algoritmo para resolver el problema por fuerza bruta"
      ]
    },
    {
      "cell_type": "markdown",
      "metadata": {
        "id": "70rDgxYXkC8r"
      },
      "source": [
        "Respuesta"
      ]
    },
    {
      "cell_type": "markdown",
      "metadata": {
        "id": "DgKpjsIId9kG"
      },
      "source": [
        "Para empezar, trataremos de solucionar el problema por fuerza bruta. Para ello, iteraremos sobre todas las posibles particiones de una lista de n elementos. Por ejemplo, para una lista de 3 elementos tendremos: [[1, 2, 3]], [[0, 1], [2]], [[0, 2], [1]], [[0], [1, 2]], [[0], [1], [2]]. En este caso, iteraremos sobre las particiones de tamaño igual al número de horarios en la jornada, y los índices en cada sublista no indicarán que partido pertenece a cada horario, basándonos en el índice en la lista de partidos. Como los horarios de los lunes y viernes solo pueden tener un partido, ignoraremos las particiones con más de un partido en esos grupos.\n",
        "\n",
        "Debemos considerar también los diferentes posibles órdenes de los partidos, por lo que iteramos también sobre las posibles permutaciones de la lista de partidos para obtener todas las posibles distribuciones de partidos en los horarios de la jornada. En realidad, esta implementación hace que el algoritmo sea más complejo de lo necesario, ya que en este problema el orden de los partidos importa si el cambio de orden conlleva un cambio de horario, pero dentro de un mismo horario, el orden en el que se expresan los partidos dentro de la lista no tiene relevancia.\n",
        "\n",
        "Aun así, dado que incluso con una implementación más optimizada el problema sigue siendo irresoluble con una búsqueda exhaustiva, utilizaremos esta implementación simplificada."
      ]
    },
    {
      "cell_type": "code",
      "execution_count": null,
      "metadata": {
        "id": "NsaONv_5d9kG"
      },
      "outputs": [],
      "source": [
        "from sympy.utilities.iterables import multiset_partitions, permutations"
      ]
    },
    {
      "cell_type": "code",
      "execution_count": null,
      "metadata": {
        "id": "iguuG1lOd9kG"
      },
      "outputs": [],
      "source": [
        "horarios = ['V20', 'S12', 'S16', 'S18', 'S20', 'D12', 'D16', 'D18', 'D20', 'L20']\n",
        "partidos = ['AB', 'AB', 'CC', 'AB', 'CC', 'BC', 'BB', 'BB', 'BC', 'BB']"
      ]
    },
    {
      "cell_type": "code",
      "execution_count": null,
      "metadata": {
        "id": "peAjG3THd9kH"
      },
      "outputs": [],
      "source": [
        "def busqueda_exhaustiva(partidos):\n",
        "    \n",
        "    mejor_audiencia = 0\n",
        "    \n",
        "    # Iteramos sobre todas las posibles particiones de una lista de longitud igual al número de horarios.\n",
        "    for particion in multiset_partitions(len(horarios)):\n",
        "        \n",
        "        # Si hay más de un partido los lunes o viernes, no consideramos este caso.\n",
        "        if len(particion[0]) > 1 or len(particion[-1]) > 1:\n",
        "            continue\n",
        "        \n",
        "        # Iteramos sobre las permutaciones de los partidos.\n",
        "        for partidos_ordenados in permutations(partidos):\n",
        "            \n",
        "            # Generamos una jornada con el orden de partidos establecido por la partición actual y calculamos su audiencia.\n",
        "            jornada = {horario: [partidos_ordenados[i] for i in particion_hora] for horario, particion_hora in zip(horarios, particion)}\n",
        "            audiencia_total = funcion_objetivo(jornada)\n",
        "            \n",
        "            # Si la audiencia es mayor a la más alta encontrada hasta ahora, actualizamos.\n",
        "            if audiencia_total > mejor_audiencia:\n",
        "                \n",
        "                mejor_audiencia = audiencia_total\n",
        "                mejor_jornada = jornada\n",
        "                \n",
        "    return mejor_jornada, mejor_jornada\n",
        "            "
      ]
    },
    {
      "cell_type": "markdown",
      "metadata": {
        "id": "tgrnsC2nkFa8"
      },
      "source": [
        "Calcula la complejidad del algoritmo por fuerza bruta"
      ]
    },
    {
      "cell_type": "markdown",
      "metadata": {
        "id": "9eUd3xwckP68"
      },
      "source": [
        "Respuesta"
      ]
    },
    {
      "cell_type": "markdown",
      "metadata": {
        "id": "kNfKWPE5d9kI"
      },
      "source": [
        "De la manera planteada, calcular la complejidad del algoritmo es complicado. En la primera iteración, se itera sobre todas las posibles particiones de un grupo de $n$ elementos en grupos de tamaño entre 0 y $n$. Para calcular la cantidad de maneras en la que podemos particionar un grupo de $n$ elementos en $k$ subgrupos, podemos utilizar los números de Stirling de segunda especie, por lo que la cantidad total de posibles particiones estará dada por la suma de los números de Stirling para todos los valores posibles de $k$:\n",
        "\n",
        "$$P(n) = \\sum_{k=1}^n {n\\brace k},$$\n",
        "\n",
        "donde\n",
        "\n",
        "$${n\\brace k} = \\frac{1}{k!}\\sum_{j=0}^k (-1)^{k-j}\\binom{k}{j} j^n,$$\n",
        "\n",
        "es el número de Stirling de segunda especie. Esta expresión para $P(n)$ es equivalente al enésimo número de Bell $B_n$. Sin embargo, calcular la complejidad asociada a un loop cuya longitud es igual a $B_n$ es complicado. Además, para cada partición se itera también sobre todas las posibles permutaciones del grupo de $m$ partidos de la jornada, que tendrá complejidad $\\mathcal{m!}$.\n",
        "\n",
        "Realmente, esta estrategia para la búsqueda por fuerza bruta parece excesivamente compleja para este problema, pero no he podido encontrar una estrategia más simple que itere sobre todas las posibles configuraciones del sistema."
      ]
    },
    {
      "cell_type": "markdown",
      "metadata": {
        "id": "txbrmLmskReM"
      },
      "source": [
        "(*)Diseña un algoritmo que mejore la complejidad del algortimo por fuerza bruta. Argumenta porque crees que mejora el algoritmo por fuerza bruta"
      ]
    },
    {
      "cell_type": "markdown",
      "metadata": {
        "id": "hLrVwt5QkZPD"
      },
      "source": [
        "Respuesta"
      ]
    },
    {
      "cell_type": "markdown",
      "metadata": {
        "id": "Pu6_tLJid9kI"
      },
      "source": [
        "Dada la gran complejidad del espacio de soluciones, utilizaremos un algoritmo metaheurístico para aproximar la solución óptima. En concreto, utilizaremos $\\textit{Simulated Annealing}$, o recorrido simulado, para encontrar soluciones cerca del óptimo sin tener que probar todas las posibles soluciones y, por lo tanto, reduciendo significativamente el coste computacional necesario. El algoritmo comienza con una alta temperatura (equivalente a un alto ratio de soluciones aceptadas), lo que conlleva a que inicialmente se explore el espacio de soluciones de manera amplia. Después, la temperatura se va reduciendo y el ratio de soluciones peores que son aceptadas se reduce, por lo que el algoritmo se centra más en explotar las mejores soluciones encontradas hasta el momento.\n",
        "\n",
        "El operador usado será una cambio de un partido aleatorio a otro horario aleatorio, distinto del horario al que está asignado en la solución referencia. En tests realizados, he observado que esté operador, que realiza pasos conservadores en el espacio de soluciones, obtenía mejor resultado que otros operadores que realizaban cambios más agresivos sobre la solución referencia (por ejemplo, intercambiar todos los partidos de dos horarios o intercambiar el horario de dos partidos). Posiblemente, esto indica que en este problema es más importante utilizar operadores que permiten explotar soluciones cercanas al óptimo, que explorar el espacio de soluciones.\n",
        "\n",
        "Por otro lado, para reducir la temperatura utilizaremos enfriamiento exponencial, ya que con esta estrategia se obtenían resultados ligeramente superiores a otras estrategias probadas como enfriamiento logarítmico, o enfriamiento multiplicativo lineal y cuadrático.\n",
        "\n",
        "Finalmente, en lugar de utilizar directamente el valor de la función objetivo, utilizaremos su negativo para convertir nuestro problema de maximización original en un problema de minimización que podemos resolver con recorrido simulado.\n",
        "\n",
        "Aunque al ser un algoritmo estocástico, encontrar la solución óptima no está garantizado, la reducción radical de complejidad computacional hace que este método sea superior a la búsqueda por fuerza bruta."
      ]
    },
    {
      "cell_type": "code",
      "execution_count": null,
      "metadata": {
        "id": "m1eyM21Vkabg"
      },
      "outputs": [],
      "source": [
        "# Función para generar una modificación aleatoria en una solución, cambiando el horario de un partido seleccionado aleatoriamente.\n",
        "def generar_insercion_aleatoria(solucion):\n",
        "    \n",
        "    solucion_nueva = deepcopy(solucion)\n",
        "    \n",
        "    # Escogemos un horario que tenga al menos un partido asignado aleatoriamente, y despues elegimos un partido de ese horario aleatoriamente.\n",
        "    horario_anterior = random.choice([horario for horario in horarios if solucion[horario]])\n",
        "    partido = random.choice(solucion[horario_anterior])\n",
        "    \n",
        "    # Excuimos el horario escogido de los horarios a los que moveremos el partido. También exluimos el viernes y lunes si están ocupados.\n",
        "    exclusiones = [horario_anterior]\n",
        "    if solucion['V20']:\n",
        "        exclusiones.append('V20')\n",
        "    if solucion['L20']:\n",
        "        exclusiones.append('L20')\n",
        "        \n",
        "    # Elegimos un nuevo horario aleatoriamente de los horarios posibles\n",
        "    horario_nuevo = random.choice([horario for horario in horarios if horario not in exclusiones])\n",
        "    \n",
        "    # Realizamos el cambio\n",
        "    solucion_nueva[horario_anterior].remove(partido)\n",
        "    solucion_nueva[horario_nuevo].append(partido)\n",
        "    \n",
        "    return solucion_nueva"
      ]
    },
    {
      "cell_type": "code",
      "execution_count": null,
      "metadata": {
        "id": "NZhZDe8Jd9kK"
      },
      "outputs": [],
      "source": [
        "# Función que calcula la probabilidad de que una solución propuesta sea aceptada, en base al ratio entre el\n",
        "# valor actual y óptimo de la función objetivo y a la temperatura.\n",
        "def criterio_aceptacion(T, valor_actual, valor_previo):\n",
        "    \n",
        "    delta = valor_actual - valor_previo\n",
        "    prob_aceptar = 1.0 if delta <= 0 else math.exp(-(delta)/T)\n",
        "    \n",
        "    return prob_aceptar > random.random()\n",
        "\n",
        "# Función para actualizar la temperatura del algoritmo en cada iteración.\n",
        "def descenso_exponencial(T, alpha):\n",
        "    \n",
        "    return alpha*T"
      ]
    },
    {
      "cell_type": "code",
      "execution_count": null,
      "metadata": {
        "id": "yv4Gjqsid9kK"
      },
      "outputs": [],
      "source": [
        "# Función que genera jornadas aleatorias, dados unos partidos que se van a jugar.\n",
        "def generar_solucion(partidos):\n",
        "    \n",
        "    posibles_horarios = deepcopy(horarios)\n",
        "    solucion = {horario: [] for horario in posibles_horarios}\n",
        "    \n",
        "    for partido in partidos:\n",
        "        \n",
        "        # Le asignamos a cada partido un horario aleatorio.\n",
        "        horario = random.choice(posibles_horarios)\n",
        "        \n",
        "        # Si los horarios aleatoriamente escogidos son el viernes o el lunes, los eliminamos\n",
        "        # de la lista de posibles horarios, para que no sean escogidor para otros partidos.\n",
        "        if horario == 'V20':\n",
        "            posibles_horarios.remove('V20')\n",
        "        \n",
        "        elif horario == 'L20':\n",
        "            posibles_horarios.remove('L20')\n",
        "        \n",
        "        solucion[horario].append(partido)\n",
        "        \n",
        "    return solucion"
      ]
    },
    {
      "cell_type": "code",
      "execution_count": null,
      "metadata": {
        "id": "WKasPE3nd9kK"
      },
      "outputs": [],
      "source": [
        "def simulated_annealing(partidos, operador, temperatura, max_iters):\n",
        "    \n",
        "    mejor_valor = math.inf\n",
        "    \n",
        "    # Calculamos el factor de reducción exponencial que hará que la simulación pare tras \"max_iters\" iteraciones.\n",
        "    reduccion_temperatura = (0.01/temperatura)**(1/max_iters)\n",
        "    \n",
        "    # Generamos una solución inicial de referencia y calculamos su coste.\n",
        "    solucion_referencia = generar_solucion(partidos)\n",
        "    valor_referencia = -funcion_objetivo(solucion_referencia)\n",
        "        \n",
        "    while temperatura > 0.01:\n",
        "                \n",
        "        # Generamos vecino y calcular su coste\n",
        "        nueva_solucion = operador(solucion_referencia)\n",
        "        nuevo_valor = -funcion_objetivo(nueva_solucion)\n",
        "        \n",
        "        # Acualizamos la mejor solución si el coste es menor que el coste mínimo encontrado hasta ahora.\n",
        "        if nuevo_valor < mejor_valor:\n",
        "            \n",
        "            mejor_valor = nuevo_valor\n",
        "            mejor_solucion = nueva_solucion\n",
        "        \n",
        "        # Utilizamos el criterio de aceptación para determinar si aceptamos la nueva solución propuesta.append\n",
        "        if criterio_aceptacion(temperatura, nuevo_valor, valor_referencia):\n",
        "            \n",
        "            valor_referencia = nuevo_valor\n",
        "            solucion_referencia = nueva_solucion\n",
        "            \n",
        "        # Bajamos la temperatura.\n",
        "        temperatura = descenso_exponencial(temperatura, reduccion_temperatura)\n",
        "        \n",
        "    return mejor_solucion, -mejor_valor"
      ]
    },
    {
      "cell_type": "markdown",
      "metadata": {
        "id": "eGDB4K6uk1iN"
      },
      "source": [
        "(*)Calcula la complejidad del algoritmo "
      ]
    },
    {
      "cell_type": "markdown",
      "metadata": {
        "id": "NhpTh_BPk1ms"
      },
      "source": [
        "Respuesta"
      ]
    },
    {
      "cell_type": "markdown",
      "metadata": {
        "id": "Y7gaas0Id9kK"
      },
      "source": [
        "El algoritmo calcula el factor de reducción de temperatura para que se realicen una cantidad $n$ de iteraciones preestablecidas. En cada iteración, se deben ejecutar cinco pasos principales: generar un nuevo estado aplicando el operador establecido, calcular el nuevo valor de la función objetivo, comprobar si el nuevo estado tiene mejor valor que el óptimo encontrado hasta ahora, comprobar también si el nuevo estado se acepta en base al criterio de aceptación, y reducir la temperatura del sistema.\n",
        "\n",
        "Para los dos primeros pasos, se ejecutan llamadas a funciones externas que a su vez realizan varias operaciones elementales. La función generar_insercion_aleatorio tiene complejidad lineal, ya que siempre lleva a cabo una cantidad fija de operaciones: 3 muestreos aleatorios de una lista, 2 comprobaciones (if statements) y añadir y quitar un elemento de una lista. Todas estas operaciones se llevan a cabo en tiempo constante, incluyendo el muestreo aleatorio con la función choice, que en python se realiza en tiempo constante $\\mathcal{O}(1)$.\n",
        "\n",
        "Por otro lado, la función que calcula el valor de la función objetivo, itera sobre todos los horarios y todos los partidos de cada horario. Para cada iteración sobre los partidos, realiza tres operaciones elementales: dos multiplicaciones y una suma. Además, para cada horario accede también a una estructura de datos para obtener el valor del solape. A pesar de que la función itera sobre los horarios y partidos, como tratamos una liga donde la cantidad de horarios y partidos por jornada es constante, cada evaluación de esta función se realizará también en una cantidad constante de operaciones elementales.\n",
        "\n",
        "Por lo tanto, aunque el algoritmo realiza bastantes operaciones elementales cada iteración, podemos concluir que el algoritmo tendrá complejidad lineal, $\\mathcal{O}(n)$. Para comprobar esto en la práctica, probamos a ejecutar el algoritmo dando diferentes valores a la cantidad de iteraciones, y vemos que el tiempo de ejecución crece linealmente con la cantidad de iteraciones."
      ]
    },
    {
      "cell_type": "code",
      "execution_count": null,
      "metadata": {
        "id": "nREzhkStlCq8"
      },
      "outputs": [],
      "source": [
        "# Probamos el algoritmo para diferentes cantidades de iteraciones totales y medimos el tiempo de ejecución.\n",
        "times = []\n",
        "iters = [10**i for i in range(1, 8)]\n",
        "\n",
        "for i in iters:\n",
        "    \n",
        "    start = time()\n",
        "    _, _ = simulated_annealing(partidos, generar_insercion_aleatoria, 1000000, i)\n",
        "    times.append(time() - start)"
      ]
    },
    {
      "cell_type": "code",
      "execution_count": null,
      "metadata": {
        "id": "XVO3vBNbd9kL",
        "outputId": "ac27ae8e-6ad2-4dbe-e452-f69e38dc3b70"
      },
      "outputs": [
        {
          "data": {
            "image/png": "[encoded data removed]",
            "text/plain": [
              "<Figure size 432x288 with 1 Axes>"
            ]
          },
          "metadata": {
            "needs_background": "light"
          },
          "output_type": "display_data"
        }
      ],
      "source": [
        "plt.plot(iters, times)\n",
        "plt.xlabel('Número de iteraciones')\n",
        "plt.ylabel('Tiempo (s)');"
      ]
    },
    {
      "cell_type": "markdown",
      "metadata": {
        "id": "3M6QjTsSkmYe"
      },
      "source": [
        "Según el problema (y tenga sentido), diseña un juego de datos de entrada aleatorios"
      ]
    },
    {
      "cell_type": "markdown",
      "metadata": {
        "id": "Jc3_OlyNkvjZ"
      },
      "source": [
        "Respuesta"
      ]
    },
    {
      "cell_type": "code",
      "execution_count": null,
      "metadata": {
        "id": "sJ-N2etjkyWc"
      },
      "outputs": [],
      "source": [
        "# Lista con las categorías de los equipos. Basada en el ejemplo que aparece el las diapositivas de la asignatura.\n",
        "equipos = 3*['A'] + 11*['B'] + 6*['C']\n",
        "\n",
        "# Función que genera partidos aleatorios con todas las categorías de equipos de una jornada.\n",
        "# Reordena aleatoriamente la lista de equipos y devuelve strings con pares ordenados de categorías.\n",
        "def partidos_aleatorios(equipos):\n",
        "    \n",
        "    equipos_tmp = deepcopy(equipos)\n",
        "    random.shuffle(equipos_tmp)\n",
        "    \n",
        "    return [''.join(sorted(a + b)) for a, b in zip(equipos_tmp[::2], equipos_tmp[1::2])]"
      ]
    },
    {
      "cell_type": "code",
      "execution_count": null,
      "metadata": {
        "id": "nJlBZxrvd9kM",
        "outputId": "95b08fcb-8139-4376-a5da-b78b662f1b9a"
      },
      "outputs": [
        {
          "name": "stdout",
          "output_type": "stream",
          "text": [
            "Partidos de la primera jornada por caterogía de los equipos: ['BC', 'AA', 'BB', 'AC', 'BC', 'BB', 'BC', 'BC', 'BB', 'BC']\n",
            "Partidos de la segunda jornada por caterogía de los equipos: ['BB', 'AC', 'BC', 'BB', 'BB', 'BC', 'AC', 'AB', 'BC', 'BC']\n"
          ]
        }
      ],
      "source": [
        "partidos_aleatorios_1 = partidos_aleatorios(equipos)\n",
        "partidos_aleatorios_2 = partidos_aleatorios(equipos)\n",
        "\n",
        "print(f'Partidos de la primera jornada por caterogía de los equipos: {partidos_aleatorios_1}')\n",
        "print(f'Partidos de la segunda jornada por caterogía de los equipos: {partidos_aleatorios_2}')"
      ]
    },
    {
      "cell_type": "markdown",
      "metadata": {
        "id": "zy5ZROmjlGo1"
      },
      "source": [
        "Aplica el algoritmo al juego de datos generado"
      ]
    },
    {
      "cell_type": "markdown",
      "metadata": {
        "id": "_Cmj-PVylMsa"
      },
      "source": [
        "Respuesta"
      ]
    },
    {
      "cell_type": "code",
      "execution_count": null,
      "metadata": {
        "id": "964xmU3Fd9kN"
      },
      "outputs": [],
      "source": [
        "def pretty_print(jornada):\n",
        "    \n",
        "    string = ''\n",
        "    \n",
        "    for horario, partidos in jornada.items():\n",
        "        string += f'{horario}: {\", \".join(partidos)}\\n'\n",
        "        \n",
        "    return string"
      ]
    },
    {
      "cell_type": "code",
      "execution_count": null,
      "metadata": {
        "id": "Jkx8GeiYlUz1",
        "outputId": "73d71f8b-a65d-428a-893d-b3c150cc99ea"
      },
      "outputs": [
        {
          "name": "stdout",
          "output_type": "stream",
          "text": [
            "La mejor audiencia obtenida para la jornada 1 es: 7057500.0\n",
            "La jornada óptima será:\n",
            "V20: \n",
            "S12: BC\n",
            "S16: BC\n",
            "S18: BB\n",
            "S20: BB, BB\n",
            "D12: BC\n",
            "D16: BC\n",
            "D18: AC\n",
            "D20: AA\n",
            "L20: BC\n",
            "\n"
          ]
        }
      ],
      "source": [
        "mejor_solucion_1, mejor_audiencia_1 = simulated_annealing(partidos_aleatorios_1, generar_insercion_aleatoria, 1000000, 100000)\n",
        "print(f'La mejor audiencia obtenida para la jornada 1 es: {mejor_audiencia_1*1e6}\\nLa jornada óptima será:\\n{pretty_print(mejor_solucion_1)}')"
      ]
    },
    {
      "cell_type": "code",
      "execution_count": null,
      "metadata": {
        "id": "ZKR3fD7gd9kO",
        "outputId": "46c5df5d-dd1a-4f05-af3c-1130faf7832c"
      },
      "outputs": [
        {
          "name": "stdout",
          "output_type": "stream",
          "text": [
            "La mejor audiencia obtenida para la jornada 1 es: 6530000.0\n",
            "La jornada óptima será:\n",
            "V20: BC\n",
            "S12: BC\n",
            "S16: BB\n",
            "S18: BC\n",
            "S20: BB, AC\n",
            "D12: BC\n",
            "D16: BB\n",
            "D18: AC\n",
            "D20: AB\n",
            "L20: \n",
            "\n"
          ]
        }
      ],
      "source": [
        "mejor_solucion_2, mejor_audiencia_2 = simulated_annealing(partidos_aleatorios_2, generar_insercion_aleatoria, 1000000, 100000)\n",
        "print(f'La mejor audiencia obtenida para la jornada 1 es: {mejor_audiencia_2*1e6}\\nLa jornada óptima será:\\n{pretty_print(mejor_solucion_2)}')"
      ]
    },
    {
      "cell_type": "markdown",
      "metadata": {
        "id": "eTFWUJQrtGcv"
      },
      "source": [
        "Enumera las referencias que has utilizado(si ha sido necesario) para llevar a cabo el trabajo"
      ]
    },
    {
      "cell_type": "markdown",
      "metadata": {
        "id": "YKQ_mRBttWsP"
      },
      "source": [
        "Respuesta"
      ]
    },
    {
      "cell_type": "markdown",
      "metadata": {
        "id": "wurFdGmRd9kP"
      },
      "source": [
        "https://es.wikipedia.org/wiki/N%C3%BAmeros_de_Stirling_de_segunda_especie\n",
        "\n",
        "https://en.wikipedia.org/wiki/Bell_number\n",
        "\n",
        "http://what-when-how.com/artificial-intelligence/a-comparison-of-cooling-schedules-for-simulated-annealing-artificial-intelligence/"
      ]
    },
    {
      "cell_type": "markdown",
      "metadata": {
        "id": "kAkDPUyRtYyH"
      },
      "source": [
        "Describe brevemente las lineas de como crees que es posible avanzar en el estudio del problema. Ten en cuenta incluso posibles variaciones del problema y/o variaciones al alza del tamaño"
      ]
    },
    {
      "cell_type": "markdown",
      "metadata": {
        "id": "IE0uZmo-tZu-"
      },
      "source": [
        "Respuesta"
      ]
    },
    {
      "cell_type": "markdown",
      "metadata": {
        "id": "RJr9S9a0d9kQ"
      },
      "source": [
        "Al resolver este problema, he utilizado el algoritmo de simulated annealing para aproximar una distribución óptima de los partidos de una jornada de fútbol. La principal ventaja de este algoritmo es que nos permite explorar el espacio de soluciones de manera rápida y eficiente. Sin embargo, el algoritmo normalmente no encontrará el óptimo global, y en el contexto de optimizar la jornada de LaLiga, donde maximizar la audiencia es de vital importancia, nuestra aproximación puede no ser suficiente. Por lo tanto, es probable que una exploración del espacio de soluciones más exhaustiva sea necesaria.\n",
        "\n",
        "Para solventar este problema y diseñar un algoritmo de simulated annealing más robusto, se pueden utilizar varias estrategias que hemos visto en clase. Por ejemplo, una limitación de la implementación actual es que hacemos uso de un único operador para generar alteraciones arbitrarias de la solución actual. Aunque se probaron varios posibles operadores y se escogió el óptimo para esta implementación, es probable que combinar varios operadores, como se explica en “Búsqueda por Entornos Variables para Planificación Logística” (y como hicimos en los ejercicios para puntuación extra de AG3), permita al algoritmo explorar el espacio de soluciones más profundamente. Esto nos permitiría encontrar soluciones más óptimas en comparación con la implementación actual con un solo operador.\n",
        "\n",
        "Por otro lado, también es probable que usar el multiarranque pueda mejorar el rendimiento del algoritmo. En nuestra implementación, la exploración de soluciones comienza a partir de una única solución aleatoriamente generada. Es posible que repetir el proceso con varias posibles soluciones iniciales lleve a una exploración más exhaustiva y, por tanto, nos permita obtener soluciones más óptimas.\n",
        "\n",
        "Ambas estrategias aumentarían el coste computacional del algoritmo, pero en este contexto, es probable que maximizar la audiencia tenga mayor importancia que minimizar el coste computacional."
      ]
    }
  ],
  "metadata": {
    "colab": {
      "provenance": [],
      "include_colab_link": true
    },
    "kernelspec": {
      "display_name": "base",
      "language": "python",
      "name": "python3"
    },
    "language_info": {
      "codemirror_mode": {
        "name": "ipython",
        "version": 3
      },
      "file_extension": ".py",
      "mimetype": "text/x-python",
      "name": "python",
      "nbconvert_exporter": "python",
      "pygments_lexer": "ipython3",
      "version": "3.8.8"
    },
    "vscode": {
      "interpreter": {
        "hash": "fa0916dff0a8f31309106ab3d64738e0082fc1ac16418c0b1efee76761a450cc"
      }
    }
  },
  "nbformat": 4,
  "nbformat_minor": 0
}