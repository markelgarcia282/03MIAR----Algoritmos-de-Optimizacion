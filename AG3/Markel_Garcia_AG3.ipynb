{
  "cells": [
    {
      "cell_type": "markdown",
      "metadata": {
        "id": "view-in-github",
        "colab_type": "text"
      },
      "source": [
        "<a href=\"https://colab.research.google.com/github/markelgarcia282/03MIAR----Algoritmos-de-Optimizacion/blob/main/AG3/Markel_Garcia_AG3.ipynb\" target=\"_parent\"><img src=\"https://colab.research.google.com/assets/colab-badge.svg\" alt=\"Open In Colab\"/></a>"
      ]
    },
    {
      "cell_type": "markdown",
      "metadata": {
        "id": "TiD5gaXPuakJ"
      },
      "source": [
        "Nombre: Markel Garcia Ibarluzea\n",
        "\n",
        "Github: https://github.com/markelgarcia282/03MIAR----Algoritmos-de-Optimizacion"
      ]
    },
    {
      "cell_type": "code",
      "execution_count": null,
      "metadata": {
        "id": "9F3IpFhVuakN"
      },
      "outputs": [],
      "source": [
        "import math\n",
        "import numpy as np\n",
        "import matplotlib.pyplot as plt\n",
        "import tsplib95\n",
        "import urllib.request\n",
        "import random\n",
        "from copy import deepcopy"
      ]
    },
    {
      "cell_type": "code",
      "execution_count": null,
      "metadata": {
        "id": "CQ9IipZVuakO",
        "outputId": "62560764-7377-4927-97a1-96a20ef1d7b9"
      },
      "outputs": [
        {
          "data": {
            "text/plain": [
              "('swiss42.tsp.gz', <http.client.HTTPMessage at 0x7f0b37d99110>)"
            ]
          },
          "execution_count": 2,
          "metadata": {},
          "output_type": "execute_result"
        }
      ],
      "source": [
        "file = \"swiss42.tsp\" ; \n",
        "urllib.request.urlretrieve(\"http://comopt.ifi.uni-heidelberg.de/software/TSPLIB95/tsp/swiss42.tsp.gz\", file + '.gz')\n",
        "#!gzip -d swiss42.tsp.gz"
      ]
    },
    {
      "cell_type": "code",
      "execution_count": null,
      "metadata": {
        "id": "HHRf0I-LuakP"
      },
      "outputs": [],
      "source": [
        "problema = tsplib95.load(file)\n",
        "\n",
        "#Nodos\n",
        "Nodos = list(problema.get_nodes())\n",
        "\n",
        "#Aristas\n",
        "Aristas = list(problema.get_edges())"
      ]
    },
    {
      "cell_type": "code",
      "execution_count": null,
      "metadata": {
        "id": "9bsNZGGIuakQ",
        "outputId": "a9c06c1f-abad-4594-f3cc-977e3f5daf9d"
      },
      "outputs": [
        {
          "name": "stdout",
          "output_type": "stream",
          "text": [
            "NAME: swiss42\n",
            "COMMENT: 42 Staedte Schweiz (Fricker)\n",
            "TYPE: TSP\n",
            "DIMENSION: 42\n",
            "EDGE_WEIGHT_TYPE: EXPLICIT\n",
            "EDGE_WEIGHT_FORMAT: FULL_MATRIX\n",
            "EDGE_WEIGHT_SECTION:\n",
            "0 15 30 23 32 55 33 37 92 114 92 110 96 90 74 76 82 67 72 78 82 159 122 131 206 112 57 28 43 70 65 66 37 103 84 125 129 72 126 141 183 124\n",
            "15 0 34 23 27 40 19 32 93 117 88 100 87 75 63 67 71 69 62 63 96 164 132 131 212 106 44 33 51 77 75 72 52 118 99 132 132 67 139 148 186 122\n",
            "30 34 0 11 18 57 36 65 62 84 64 89 76 93 95 100 104 98 57 88 99 130 100 101 179 86 51 4 18 43 45 95 45 115 93 152 159 100 112 114 153 94\n",
            "23 23 11 0 11 48 26 54 70 94 69 89 75 84 84 89 92 89 54 78 99 141 111 109 190 89 44 11 29 54 56 89 47 118 96 147 151 90 122 126 163 101\n",
            "32 27 18 11 0 40 20 58 67 92 61 78 65 76 83 89 91 95 43 72 110 141 116 105 190 81 34 19 35 57 63 97 58 129 107 156 158 92 129 127 161 95\n",
            "55 40 57 48 40 0 23 55 96 123 78 75 62 36 56 66 63 95 37 34 137 174 156 129 224 90 15 59 75 96 103 105 91 158 139 164 156 78 169 163 191 115\n",
            "33 19 36 26 20 23 0 45 85 111 75 82 69 60 63 70 71 85 44 52 115 161 136 122 210 91 25 37 54 78 81 90 68 136 116 150 147 76 148 147 180 111\n",
            "37 32 65 54 58 55 45 0 124 149 118 126 113 80 42 42 49 40 87 60 94 195 158 163 242 135 65 63 79 106 101 50 66 118 104 109 103 36 160 178 218 153\n",
            "92 93 62 70 67 96 85 124 0 28 29 68 63 122 148 155 156 159 67 129 148 78 80 39 129 46 82 65 55 40 61 157 97 159 135 212 221 159 110 72 95 35\n",
            "114 117 84 94 92 123 111 149 28 0 54 91 88 150 174 181 182 181 95 157 159 50 65 27 102 65 110 87 73 50 68 176 112 166 142 229 241 184 99 46 69 38\n",
            "92 88 64 69 61 78 75 118 29 54 0 39 34 99 134 142 141 157 44 110 161 103 109 52 154 22 63 68 66 61 81 158 107 175 151 216 219 150 137 100 115 37\n",
            "110 100 89 89 78 75 82 126 68 91 39 0 14 80 129 139 135 167 39 98 187 136 148 81 186 28 61 92 97 98 117 173 134 204 181 232 229 153 176 137 143 62\n",
            "96 87 76 75 65 62 69 113 63 88 34 14 0 72 117 128 124 153 26 88 174 136 142 82 187 32 48 79 85 89 106 159 121 191 168 219 216 140 168 134 145 64\n",
            "90 75 93 84 76 36 60 80 122 150 99 80 72 0 59 71 63 116 56 25 170 201 189 151 252 104 44 95 111 130 138 130 127 192 174 186 172 90 205 193 214 135\n",
            "74 63 95 84 83 56 63 42 148 174 134 129 117 59 0 11 8 63 93 35 135 223 195 184 273 146 71 95 113 138 138 81 107 159 146 132 113 32 200 209 243 171\n",
            "76 67 100 89 89 66 70 42 155 181 142 139 128 71 11 0 11 54 103 46 130 230 198 192 279 155 80 99 117 143 141 74 107 155 143 122 102 22 202 215 250 179\n",
            "82 71 104 92 91 63 71 49 156 182 141 135 124 63 8 11 0 65 100 39 140 232 203 192 281 153 78 103 121 147 146 85 115 164 152 133 112 33 208 218 251 178\n",
            "67 69 98 89 95 95 85 40 159 181 157 167 153 116 63 54 65 0 127 92 83 224 180 199 269 175 106 95 109 135 125 21 80 107 100 71 63 33 173 205 249 191\n",
            "72 62 57 54 43 37 44 87 67 95 44 39 26 56 93 103 100 127 0 67 153 145 139 96 196 53 23 60 70 81 95 134 101 172 149 194 190 115 160 138 159 80\n",
            "78 63 88 78 72 34 52 60 129 157 110 98 88 25 35 46 39 92 67 0 152 207 188 162 258 119 48 89 107 129 134 108 114 176 159 163 147 66 200 197 224 147\n",
            "82 96 99 99 110 137 115 94 148 159 161 187 174 170 135 130 140 83 153 152 0 188 128 184 222 183 139 95 95 110 91 62 54 24 23 81 110 113 108 164 217 184\n",
            "159 164 130 141 141 174 161 195 78 50 103 136 136 201 223 230 232 224 145 207 188 0 65 57 51 109 160 132 116 90 102 217 148 188 168 264 281 231 100 26 30 75\n",
            "122 132 100 111 116 156 136 158 80 65 109 148 142 189 195 198 203 180 139 188 128 65 0 91 94 126 145 100 82 60 57 167 99 126 106 208 230 194 36 39 94 103\n",
            "131 131 101 109 105 129 122 163 39 27 52 81 82 151 184 192 192 199 96 162 184 57 91 0 106 53 115 104 94 74 94 196 134 192 168 251 260 197 126 64 64 19\n",
            "206 212 179 190 190 224 210 242 129 102 154 186 187 252 273 279 281 269 196 258 222 51 94 106 0 158 211 180 163 136 145 259 190 218 200 302 323 278 120 65 49 124\n",
            "112 106 86 89 81 90 91 135 46 65 22 28 32 104 146 155 153 175 53 119 183 109 126 53 158 0 75 89 88 83 103 178 129 197 173 236 238 166 156 111 115 34\n",
            "57 44 51 44 34 15 25 65 82 110 63 61 48 44 71 80 78 106 23 48 139 160 145 115 211 75 0 53 68 86 95 114 90 160 139 173 168 92 162 150 176 101\n",
            "28 33 4 11 19 59 37 63 65 87 68 92 79 95 95 99 103 95 60 89 95 132 100 104 180 89 53 0 18 44 45 92 42 112 89 149 156 99 111 116 155 97\n",
            "43 51 18 29 35 75 54 79 55 73 66 97 85 111 113 117 121 109 70 107 95 116 82 94 163 88 68 18 0 27 27 103 42 109 85 157 168 115 94 98 140 90\n",
            "70 77 43 54 57 96 78 106 40 50 61 98 89 130 138 143 147 135 81 129 110 90 60 74 136 83 86 44 27 0 21 128 62 119 96 179 192 142 79 72 115 74\n",
            "65 75 45 56 63 103 81 101 61 68 81 117 106 138 138 141 146 125 95 134 91 102 57 94 145 103 95 45 27 21 0 115 46 98 75 163 179 136 67 81 129 95\n",
            "66 72 95 89 97 105 90 50 157 176 158 173 159 130 81 74 85 21 134 108 62 217 167 196 259 178 114 92 103 128 115 0 69 86 81 60 65 54 158 195 243 190\n",
            "37 52 45 47 58 91 68 66 97 112 107 134 121 127 107 107 115 80 101 114 54 148 99 134 190 129 90 42 42 62 46 69 0 71 49 117 133 98 95 127 175 132\n",
            "103 118 115 118 129 158 136 118 159 166 175 204 191 192 159 155 164 107 172 176 24 188 126 192 218 197 160 112 109 119 98 86 71 0 24 94 127 137 100 163 218 194\n",
            "84 99 93 96 107 139 116 104 135 142 151 181 168 174 146 143 152 100 149 159 23 168 106 168 200 173 139 89 85 96 75 81 49 24 0 104 133 127 85 143 197 170\n",
            "125 132 152 147 156 164 150 109 212 229 216 232 219 186 132 122 133 71 194 163 81 264 208 251 302 236 173 149 157 179 163 60 117 94 104 0 39 100 190 241 292 246\n",
            "129 132 159 151 158 156 147 103 221 241 219 229 216 172 113 102 112 63 190 147 110 281 230 260 323 238 168 156 168 192 179 65 133 127 133 39 0 81 216 259 307 253\n",
            "72 67 100 90 92 78 76 36 159 184 150 153 140 90 32 22 33 33 115 66 113 231 194 197 278 166 92 99 115 142 136 54 98 137 127 100 81 0 193 214 253 187\n",
            "126 139 112 122 129 169 148 160 110 99 137 176 168 205 200 202 208 173 160 200 108 100 36 126 120 156 162 111 94 79 67 158 95 100 85 190 216 193 0 74 129 137\n",
            "141 148 114 126 127 163 147 178 72 46 100 137 134 193 209 215 218 205 138 197 164 26 39 64 65 111 150 116 98 72 81 195 127 163 143 241 259 214 74 0 55 80\n",
            "183 186 153 163 161 191 180 218 95 69 115 143 145 214 243 250 251 249 159 224 217 30 94 64 49 115 176 155 140 115 129 243 175 218 197 292 307 253 129 55 0 81\n",
            "124 122 94 101 95 115 111 153 35 38 37 62 64 135 171 179 178 191 80 147 184 75 103 19 124 34 101 97 90 74 95 190 132 194 170 246 253 187 137 80 81 0\n",
            "EOF\n"
          ]
        }
      ],
      "source": [
        "print(problema)"
      ]
    },
    {
      "cell_type": "code",
      "execution_count": null,
      "metadata": {
        "id": "L5RDiSFvuakR"
      },
      "outputs": [],
      "source": [
        "# Función que genera una solución aleatoria al problema del viajante que empieza y termina en 0.\n",
        "def crear_solucion(problema):\n",
        "    \n",
        "    nodos = list(problema.get_nodes())\n",
        "    \n",
        "    solucion = nodos[1:]\n",
        "    random.shuffle(solucion)\n",
        "    \n",
        "    return [0] + solucion + [0]\n",
        "\n",
        "# Problema que calcula el coste de una solución, donde el coste es la suma de las distancias que el viajero recorre.\n",
        "def calcular_coste(solucion, problema):\n",
        "    \n",
        "    return sum([problema.get_weight(a, b) for a, b in zip(solucion[:-1], solucion[1:])])"
      ]
    },
    {
      "cell_type": "markdown",
      "metadata": {
        "id": "ZDPgqxWYuakS"
      },
      "source": [
        "## Busqueda Aleatoria"
      ]
    },
    {
      "cell_type": "code",
      "execution_count": null,
      "metadata": {
        "id": "wQi9tJX-uakT"
      },
      "outputs": [],
      "source": [
        "def busqueda_aleatoria(problema, num_pruebas):\n",
        "    \n",
        "    # Inicializamos la mejor solución a un valor alto.\n",
        "    mejor_coste = math.inf\n",
        "    \n",
        "    for _ in range(num_pruebas):\n",
        "        \n",
        "        # Generamos solución aleatoria y calculamos su coste\n",
        "        solucion_prueba = crear_solucion(problema)\n",
        "        coste_prueba = calcular_coste(solucion_prueba, problema)\n",
        "        \n",
        "        # Si la solución generada tiene menor coste que la mejor encontrada hasta el momento, actualizamos la mejor solución.\n",
        "        if coste_prueba < mejor_coste:\n",
        "            \n",
        "            mejor_solucion = solucion_prueba\n",
        "            mejor_coste = coste_prueba\n",
        "            \n",
        "    return mejor_solucion, mejor_coste\n",
        "        "
      ]
    },
    {
      "cell_type": "code",
      "execution_count": null,
      "metadata": {
        "id": "OV5y5ZpAuakU",
        "outputId": "4ef96d57-baee-4890-ab9d-d2fa0b971f41"
      },
      "outputs": [
        {
          "name": "stdout",
          "output_type": "stream",
          "text": [
            "Mejor solución: [0, 31, 20, 16, 7, 14, 33, 1, 18, 8, 22, 24, 21, 29, 5, 2, 23, 28, 37, 25, 39, 10, 40, 41, 12, 3, 9, 11, 27, 4, 19, 6, 26, 36, 35, 34, 38, 32, 17, 30, 15, 13, 0]\n",
            "Distancia total en la mejor solución: 3698\n"
          ]
        }
      ],
      "source": [
        "mejor_solucion, mejor_coste = busqueda_aleatoria(problema, 5000)\n",
        "print(f'Mejor solución: {mejor_solucion}\\nDistancia total en la mejor solución: {mejor_coste}')"
      ]
    },
    {
      "cell_type": "markdown",
      "metadata": {
        "id": "ytm1w7HuuakV"
      },
      "source": [
        "## Busqueda Local"
      ]
    },
    {
      "cell_type": "code",
      "execution_count": null,
      "metadata": {
        "id": "WPS4aKJeuakW"
      },
      "outputs": [],
      "source": [
        "def generar_vecina(solucion, problema):\n",
        "    \n",
        "    mejor_coste = math.inf\n",
        "    \n",
        "    # Para cada nodo, recorremos el resto de nodos y probamos intercambios entre pares de nodos.\n",
        "    for i in range(1, len(solucion)-1):\n",
        "        for j in range(i+1, len(solucion)):\n",
        "            \n",
        "            # Intercambiamos nodos i y j.\n",
        "            vecina = deepcopy(solucion)\n",
        "            vecina[i], vecina[j] = solucion[j], solucion[i]\n",
        "            \n",
        "            # Calculamos coste de nueva solución.\n",
        "            nuevo_coste = calcular_coste(vecina, problema)\n",
        "            \n",
        "            # Si la solución generada tiene menor coste que la mejor encontrada hasta el momento, actualizamos la mejor solución.\n",
        "            if nuevo_coste < mejor_coste:\n",
        "            \n",
        "                mejor_solucion = vecina\n",
        "                mejor_coste = nuevo_coste\n",
        "    \n",
        "    return mejor_solucion, mejor_coste"
      ]
    },
    {
      "cell_type": "code",
      "execution_count": null,
      "metadata": {
        "id": "TWe2Go6SuakX",
        "outputId": "00378c10-6b26-4305-a5f0-f714845b751b"
      },
      "outputs": [
        {
          "name": "stdout",
          "output_type": "stream",
          "text": [
            "Distancia total solución inicial: 3698\n",
            "Distancia total mejor solución local: 3336\n"
          ]
        }
      ],
      "source": [
        "print(f'Distancia total solución inicial: {mejor_coste}')\n",
        "\n",
        "mejor_solucion, mejor_coste = generar_vecina(mejor_solucion, problema)\n",
        "print(f'Distancia total mejor solución local: {mejor_coste}')"
      ]
    },
    {
      "cell_type": "code",
      "execution_count": null,
      "metadata": {
        "id": "el86T1XvuakY"
      },
      "outputs": [],
      "source": [
        "def busqueda_local(problema, operador):\n",
        "    \n",
        "    # Generamos una solución inicial de referencia y calculamos su coste.\n",
        "    solucion_referencia = crear_solucion(problema)\n",
        "    mejor_coste = calcular_coste(solucion_referencia, problema)\n",
        "    \n",
        "    # Contador de iteraciones.\n",
        "    iters = 0\n",
        "    \n",
        "    while True:\n",
        "        \n",
        "        iters += 1\n",
        "        \n",
        "        # Obtenemos la major vecina de la solución referencia y su coste\n",
        "        mejor_vecina, coste_vecina = operador(solucion_referencia, problema)\n",
        "        \n",
        "        # Comprobamos si mejora el mejor coste actual. Si no, detenemos el algoritmo ya que hemos llegado a un mínimo local.\n",
        "        if coste_vecina < mejor_coste:\n",
        "            \n",
        "            mejor_coste = coste_vecina\n",
        "            mejor_solucion = mejor_vecina\n",
        "            solucion_referencia = mejor_vecina\n",
        "            \n",
        "        else:\n",
        "            return mejor_solucion, mejor_coste, iters"
      ]
    },
    {
      "cell_type": "code",
      "execution_count": null,
      "metadata": {
        "id": "PflIzgfxuakY",
        "outputId": "1e6f9eb8-ff96-4c0e-b1f0-2a08988336cd"
      },
      "outputs": [
        {
          "name": "stdout",
          "output_type": "stream",
          "text": [
            "En la iteracion: 30, la solución mejor encontrada es: [0, 6, 26, 5, 13, 19, 7, 37, 15, 16, 14, 11, 25, 41, 23, 9, 8, 29, 30, 28, 32, 34, 33, 20, 35, 36, 31, 17, 18, 12, 10, 2, 27, 3, 4, 1, 0, 38, 22, 39, 21, 40, 24]\n",
            "con distancia total: 1594\n"
          ]
        }
      ],
      "source": [
        "mejor_solucion, mejor_coste, iters = busqueda_local(problema, generar_vecina)\n",
        "\n",
        "print(f'En la iteracion: {iters}, la solución mejor encontrada es: {mejor_solucion}\\ncon distancia total: {mejor_coste}')"
      ]
    },
    {
      "cell_type": "markdown",
      "metadata": {
        "id": "BSr25uFvuakZ"
      },
      "source": [
        "Consideramos ahora como cambiaría el rendimiento del algoritmo haciendo uso de diferentes operadores para generar nuevas soluciones."
      ]
    },
    {
      "cell_type": "code",
      "execution_count": null,
      "metadata": {
        "id": "R5lbQ3ptuakZ"
      },
      "outputs": [],
      "source": [
        "def generar_insercion(solucion, problema):\n",
        "    \n",
        "    mejor_coste = math.inf\n",
        "    \n",
        "    # Para cada nodo, recorremos el resto de nodos y probamos intercambios entre pares de nodos.\n",
        "    for i in range(1, len(solucion)-1):\n",
        "        for j in range(i+1, len(solucion)):\n",
        "            \n",
        "            # Mover el nodo i a la posición j.\n",
        "            nueva_solucion = deepcopy(solucion)\n",
        "            nueva_solucion.insert(j, nueva_solucion.pop(i))\n",
        "            \n",
        "            # Calculamos coste de nueva solución.\n",
        "            nuevo_coste = calcular_coste(nueva_solucion, problema)\n",
        "            \n",
        "            # Si la solución generada tiene menor coste que la mejor encontrada hasta el momento, actualizamos la mejor solución.\n",
        "            if nuevo_coste < mejor_coste:\n",
        "            \n",
        "                mejor_solucion = nueva_solucion\n",
        "                mejor_coste = nuevo_coste\n",
        "    \n",
        "    return mejor_solucion, mejor_coste"
      ]
    },
    {
      "cell_type": "code",
      "execution_count": null,
      "metadata": {
        "id": "GGDTmWsEuaka",
        "outputId": "716e8a9e-af83-47c7-e1b0-4fe97215cb3f"
      },
      "outputs": [
        {
          "name": "stdout",
          "output_type": "stream",
          "text": [
            "En la iteracion: 35, la solución mejor encontrada es: [0, 20, 33, 34, 38, 22, 24, 40, 23, 41, 25, 11, 12, 18, 27, 32, 35, 36, 37, 15, 16, 14, 19, 13, 5, 26, 6, 3, 2, 28, 30, 29, 39, 21, 9, 8, 10, 4, 1, 0, 7, 17, 31]\n",
            "con distancia total: 1604\n"
          ]
        }
      ],
      "source": [
        "mejor_solucion, mejor_coste, iters = busqueda_local(problema, generar_insercion)\n",
        "\n",
        "print(f'En la iteracion: {iters}, la solución mejor encontrada es: {mejor_solucion}\\ncon distancia total: {mejor_coste}')"
      ]
    },
    {
      "cell_type": "code",
      "execution_count": null,
      "metadata": {
        "id": "b5iz85ntuaka"
      },
      "outputs": [],
      "source": [
        "def generar_inversion(solucion, problema, rango=4):\n",
        "    \n",
        "    mejor_coste = math.inf\n",
        "    \n",
        "    # Para cada nodo, recorremos el resto de nodos y probamos intercambios entre pares de nodos.\n",
        "    for i in range(1, len(solucion)-rango+1):\n",
        "            \n",
        "        # Invertir el orden de la sublista que empieza en el elemento i y tiene una longitud igual a rango.\n",
        "        nueva_solucion = deepcopy(solucion)\n",
        "        nueva_solucion[i:i+rango] = reversed(nueva_solucion[i:i+rango])\n",
        "                \n",
        "        # Calculamos coste de nueva solución.\n",
        "        nuevo_coste = calcular_coste(nueva_solucion, problema)\n",
        "        \n",
        "        # Si la solución generada tiene menor coste que la mejor encontrada hasta el momento, actualizamos la mejor solución.\n",
        "        if nuevo_coste < mejor_coste:\n",
        "        \n",
        "            mejor_solucion = nueva_solucion\n",
        "            mejor_coste = nuevo_coste\n",
        "    \n",
        "    return mejor_solucion, mejor_coste\n",
        "    "
      ]
    },
    {
      "cell_type": "code",
      "execution_count": null,
      "metadata": {
        "id": "LJKeE0Sruakb",
        "outputId": "af4c0b9b-0665-442a-d6b0-87917d5d5a2d"
      },
      "outputs": [
        {
          "name": "stdout",
          "output_type": "stream",
          "text": [
            "En la iteracion: 21, la solución mejor encontrada es: [0, 20, 17, 26, 25, 8, 38, 9, 39, 3, 4, 2, 31, 32, 40, 11, 12, 7, 16, 15, 19, 13, 1, 5, 6, 27, 33, 30, 28, 18, 10, 41, 24, 23, 21, 34, 29, 22, 0, 37, 35, 36, 14]\n",
            "con distancia total: 3162\n"
          ]
        }
      ],
      "source": [
        "mejor_solucion, mejor_coste, iters = busqueda_local(problema, generar_inversion)\n",
        "\n",
        "print(f'En la iteracion: {iters}, la solución mejor encontrada es: {mejor_solucion}\\ncon distancia total: {mejor_coste}')"
      ]
    },
    {
      "cell_type": "code",
      "execution_count": null,
      "metadata": {
        "id": "o3_gTw_zuakb"
      },
      "outputs": [],
      "source": [
        "def generar_aleatoria(solucion, problema, rango=4):\n",
        "    \n",
        "    mejor_coste = math.inf\n",
        "    \n",
        "    # Para cada nodo, recorremos el resto de nodos y probamos intercambios entre pares de nodos.\n",
        "    for i in range(1, len(solucion)-rango+1):\n",
        "            \n",
        "        # Cambiar aleatoriamente el orden de la sublista que empieza en el elemento i y tiene una longitud igual a rango.\n",
        "        nueva_solucion = deepcopy(solucion)\n",
        "        sub_lista = nueva_solucion[i:i+rango]\n",
        "        random.shuffle(sub_lista)\n",
        "        nueva_solucion[i:i+rango] = sub_lista\n",
        "                \n",
        "        # Calculamos coste de nueva solución.\n",
        "        nuevo_coste = calcular_coste(nueva_solucion, problema)\n",
        "        \n",
        "        # Si la solución generada tiene menor coste que la mejor encontrada hasta el momento, actualizamos la mejor solución.\n",
        "        if nuevo_coste < mejor_coste:\n",
        "        \n",
        "            mejor_solucion = nueva_solucion\n",
        "            mejor_coste = nuevo_coste\n",
        "    \n",
        "    return mejor_solucion, mejor_coste\n",
        "    "
      ]
    },
    {
      "cell_type": "code",
      "execution_count": null,
      "metadata": {
        "id": "uQ2ks5rKuakb",
        "outputId": "fbed19db-1e06-4efb-941a-72230fea1d3e"
      },
      "outputs": [
        {
          "name": "stdout",
          "output_type": "stream",
          "text": [
            "En la iteracion: 20, la solución mejor encontrada es: [0, 31, 36, 8, 12, 6, 37, 14, 13, 11, 9, 3, 1, 7, 15, 4, 27, 22, 30, 32, 33, 20, 35, 19, 40, 24, 39, 23, 25, 41, 26, 16, 29, 38, 34, 28, 2, 21, 10, 5, 18, 0, 17]\n",
            "con distancia total: 3232\n"
          ]
        }
      ],
      "source": [
        "mejor_solucion, mejor_coste, iters = busqueda_local(problema, generar_aleatoria)\n",
        "\n",
        "print(f'En la iteracion: {iters}, la solución mejor encontrada es: {mejor_solucion}\\ncon distancia total: {mejor_coste}')"
      ]
    },
    {
      "cell_type": "markdown",
      "metadata": {
        "id": "C139f5GZuakc"
      },
      "source": [
        "Vemos que el operador de inserción es el que mejor resultado obtiene, mejorando el rendimiento del operador de vecindad que implementamos inicialmente. Los operadores de inversión y orden aleatorio tienen bastante peor rendimiento, aunque la comparación no es del todo justa ya que probamos menos soluciones con estas. En los otros operadores realizamos un doble bucle probando una solución para cada par de índices mientras que en estos dos operadores, solo iteramos sobre los índices de la lista una vez. Es posible que el rendimiento mejore si permitimos que la longitud de la sublista que invertimos/barajamos cambie también."
      ]
    },
    {
      "cell_type": "markdown",
      "metadata": {
        "id": "7ekcBsANuakc"
      },
      "source": [
        "También es posible combinar varios de estos operadores, con el objetivo de escapar mínimos locales. La idea, como se explica en \"Búsqueda por Entornos Variables para Planificación Logística\", es que el mínimo local asociado a un entorno local no es necesariamente un mínimo local en otro entorno, por lo que cambiar de entorno durante el proceso de búsqueda puede ayudarnos a encontrar en mínimo global. En este caso, aplicaremos como prueba uno de los algoritmos que implementan esta idea en el artículo: VNS Descendente."
      ]
    },
    {
      "cell_type": "code",
      "execution_count": null,
      "metadata": {
        "id": "2arPjB_suakc"
      },
      "outputs": [],
      "source": [
        "operadores = [generar_aleatoria, generar_inversion, generar_vecina, generar_insercion]"
      ]
    },
    {
      "cell_type": "code",
      "execution_count": null,
      "metadata": {
        "id": "3SxKi1pZuakc"
      },
      "outputs": [],
      "source": [
        "def VNS_descendente(problema, operadores):\n",
        "    \n",
        "    # Generamos solución inicial y calculamos su coste.\n",
        "    mejor_solucion = crear_solucion(problema)\n",
        "    mejor_coste = calcular_coste(mejor_solucion, problema)\n",
        "    \n",
        "    k = 0\n",
        "    \n",
        "    while k < len(operadores):\n",
        "        \n",
        "        print(f'k: {k}, mejor solucion: {mejor_coste}')\n",
        "        \n",
        "        # Buscamos solución óptima para entorno k.\n",
        "        nueva_solucion, nuevo_coste, _ = busqueda_local(problema, operadores[k])\n",
        "        \n",
        "        # Comprobamos si mejora la solución óptima hasta ahora. Si lo hace, volvemos a iterar sobre los entornos. Si no, pasamos al siguiente entorno.\n",
        "        if nuevo_coste < mejor_coste:\n",
        "            \n",
        "            mejor_coste = nuevo_coste\n",
        "            mejor_solucion = nueva_solucion\n",
        "            k = 0\n",
        "            \n",
        "        else:\n",
        "            \n",
        "            k += 1\n",
        "            \n",
        "    return mejor_solucion, mejor_coste"
      ]
    },
    {
      "cell_type": "code",
      "execution_count": null,
      "metadata": {
        "id": "xCDi26_vuakd",
        "outputId": "ff856ec7-6e9b-4ca7-cd3c-64477b877e0c"
      },
      "outputs": [
        {
          "name": "stdout",
          "output_type": "stream",
          "text": [
            "k: 0, mejor solucion: 4869\n",
            "k: 0, mejor solucion: 3196\n",
            "k: 0, mejor solucion: 3052\n",
            "k: 1, mejor solucion: 3052\n",
            "k: 2, mejor solucion: 3052\n",
            "k: 0, mejor solucion: 1864\n",
            "k: 1, mejor solucion: 1864\n",
            "k: 2, mejor solucion: 1864\n",
            "k: 0, mejor solucion: 1546\n",
            "k: 1, mejor solucion: 1546\n",
            "k: 2, mejor solucion: 1546\n",
            "k: 3, mejor solucion: 1546\n",
            "k: 0, mejor solucion: 1506\n",
            "k: 1, mejor solucion: 1506\n",
            "k: 2, mejor solucion: 1506\n",
            "k: 3, mejor solucion: 1506\n",
            "La solución mejor encontrada es: [0, 20, 33, 34, 38, 22, 30, 28, 2, 5, 13, 19, 14, 16, 15, 37, 17, 36, 35, 31, 32, 3, 4, 6, 26, 18, 12, 11, 25, 10, 41, 23, 40, 24, 21, 39, 9, 8, 29, 27, 0, 1, 7]\n",
            "con distancia total: 1506\n"
          ]
        }
      ],
      "source": [
        "mejor_solucion, mejor_coste = VNS_descendente(problema, operadores)\n",
        "\n",
        "print(f'La solución mejor encontrada es: {mejor_solucion}\\ncon distancia total: {mejor_coste}')"
      ]
    },
    {
      "cell_type": "markdown",
      "metadata": {
        "id": "pUpWjNhluakd"
      },
      "source": [
        "## Simulated Annealing"
      ]
    },
    {
      "cell_type": "code",
      "execution_count": null,
      "metadata": {
        "id": "qddV-mjiuakd"
      },
      "outputs": [],
      "source": [
        "# Función que genera una solucion, intercambiando dos nodos aleatorios de una solución referencia.\n",
        "def generar_vecina_aleatoria(solucion):\n",
        "    \n",
        "    # Escojemos dos nodos aleatorios para intercambiar.\n",
        "    i, j = random.sample(range(1, len(solucion)-1), 2)\n",
        "    \n",
        "    # Intercambiamos los nodos y devolvemos la solucion.\n",
        "    nueva_solucion = deepcopy(solucion)\n",
        "    nueva_solucion[i], nueva_solucion[j] = solucion[j], solucion[i]\n",
        "    \n",
        "    return nueva_solucion\n",
        "\n",
        "# Devuelve la probabilidad de aceptar una nueva solución dado el coste de la propuesta y el coste de referencia.\n",
        "def criterio_aceptacion(T, coste_actual, coste_previo):\n",
        "    \n",
        "    delta = coste_actual - coste_previo\n",
        "    prob_aceptar = 1.0 if delta <= 0 else math.exp(-(delta)/T)\n",
        "    \n",
        "    return prob_aceptar > random.random()"
      ]
    },
    {
      "cell_type": "code",
      "execution_count": null,
      "metadata": {
        "id": "Psd7j6Q9uake"
      },
      "outputs": [],
      "source": [
        "def simulated_annealing(problema, temperatura, operador):\n",
        "    \n",
        "    mejor_coste = math.inf\n",
        "    \n",
        "    # Generamos una solución inicial de referencia y calculamos su coste.\n",
        "    solucion_referencia = crear_solucion(problema)\n",
        "    coste_referencia = calcular_coste(solucion_referencia, problema)\n",
        "    \n",
        "    while temperatura > 0.01:\n",
        "                \n",
        "        # Generamos vecino y calcular su coste\n",
        "        nueva_solucion = operador(solucion_referencia)\n",
        "        nuevo_coste = calcular_coste(nueva_solucion, problema)\n",
        "        \n",
        "        # Acualizamos la mejor solución si el coste es menor que el coste mínimo encontrado hasta ahora.\n",
        "        if nuevo_coste < mejor_coste:\n",
        "            \n",
        "            mejor_coste = nuevo_coste\n",
        "            mejor_solucion = nueva_solucion\n",
        "            \n",
        "        # Utilizamos el criterio de aceptación para determinar si aceptamos la nueva solución propuesta.append\n",
        "        if criterio_aceptacion(temperatura, nuevo_coste, coste_referencia):\n",
        "            \n",
        "            coste_referencia = nuevo_coste\n",
        "            solucion_referencia = nueva_solucion\n",
        "            \n",
        "        # Bajamos la temperatura.\n",
        "        temperatura *= 0.99\n",
        "        \n",
        "    return mejor_solucion, mejor_coste"
      ]
    },
    {
      "cell_type": "code",
      "execution_count": null,
      "metadata": {
        "id": "tMkrfIyTuake",
        "outputId": "3ab159eb-a459-48f9-9b28-52e431343972"
      },
      "outputs": [
        {
          "name": "stdout",
          "output_type": "stream",
          "text": [
            "La mejor solución encontrada es: [0, 18, 10, 9, 39, 30, 29, 28, 31, 35, 36, 15, 13, 19, 14, 5, 6, 4, 26, 12, 11, 25, 41, 8, 2, 34, 33, 38, 22, 21, 24, 40, 23, 1, 7, 3, 27, 32, 20, 16, 37, 17, 0]\n",
            "Con una distancia total recorrida de: 2213\n"
          ]
        }
      ],
      "source": [
        "mejor_solucion, mejor_coste = simulated_annealing(problema, 10000000, generar_vecina_aleatoria)\n",
        "\n",
        "print(f'La mejor solución encontrada es: {mejor_solucion}\\nCon una distancia total recorrida de: {mejor_coste}')"
      ]
    },
    {
      "cell_type": "markdown",
      "metadata": {
        "id": "-HJZYIVtuake"
      },
      "source": [
        "El resultado podría optimizarse eligiendo un operador que no sea tan aleatorio, es decir, que mejore ligeramente la explotación a cambio de reducir la exploración del algoritmo, ya que como vimos con el algoritmo de búsqueda local, un operador no tan aleatorio como el operador de inserción podría mejorar el rendimiento. Probamos entonces con ese mismo operador:"
      ]
    },
    {
      "cell_type": "code",
      "execution_count": null,
      "metadata": {
        "id": "uJ3eCUCguakf"
      },
      "outputs": [],
      "source": [
        "# Función que genera una solucion, intercambiando dos nodos aleatorios de una solución referencia.\n",
        "def generar_insercion_aleatoria(solucion):\n",
        "    \n",
        "    # Escojemos un nodos aleatorio y lo movemos otra posición aleatoriamente escogida.\n",
        "    i, j = random.sample(range(1, len(solucion)-1), 2)\n",
        "    \n",
        "    # Intercambiamos los nodos y devolvemos la solucion.\n",
        "    nueva_solucion = deepcopy(solucion)\n",
        "    nueva_solucion.insert(j, nueva_solucion.pop(i))\n",
        "    \n",
        "    return nueva_solucion"
      ]
    },
    {
      "cell_type": "code",
      "execution_count": null,
      "metadata": {
        "id": "2cRaZk5puakg",
        "outputId": "5232c761-44ed-4179-bb5a-8fa0a38a5ae4"
      },
      "outputs": [
        {
          "name": "stdout",
          "output_type": "stream",
          "text": [
            "La mejor solución encontrada es: [0, 7, 16, 19, 13, 5, 10, 41, 8, 9, 23, 21, 40, 24, 39, 33, 34, 20, 31, 17, 37, 36, 35, 32, 27, 2, 4, 25, 11, 12, 18, 26, 15, 14, 6, 30, 38, 22, 29, 28, 3, 1, 0]\n",
            "Con una distancia total recorrida de: 1883\n"
          ]
        }
      ],
      "source": [
        "mejor_solucion, mejor_coste = simulated_annealing(problema, 10000000, generar_insercion_aleatoria)\n",
        "\n",
        "print(f'La mejor solución encontrada es: {mejor_solucion}\\nCon una distancia total recorrida de: {mejor_coste}')"
      ]
    },
    {
      "cell_type": "markdown",
      "metadata": {
        "id": "S3XxzYL_uakg"
      },
      "source": [
        "Vemos que, efectivamente, mejoramos el resultado con una mejor elección del operador."
      ]
    },
    {
      "cell_type": "markdown",
      "metadata": {
        "id": "cvHPQ1H6uakg"
      },
      "source": []
    }
  ],
  "metadata": {
    "kernelspec": {
      "display_name": "Python 3",
      "language": "python",
      "name": "python3"
    },
    "language_info": {
      "codemirror_mode": {
        "name": "ipython",
        "version": 3
      },
      "file_extension": ".py",
      "mimetype": "text/x-python",
      "name": "python",
      "nbconvert_exporter": "python",
      "pygments_lexer": "ipython3",
      "version": "3.8.8"
    },
    "vscode": {
      "interpreter": {
        "hash": "1403921725e8ae316052f2b92d16ad5c8ea76f024ce410d3d1adf133c5fafe1c"
      }
    },
    "colab": {
      "provenance": [],
      "include_colab_link": true
    }
  },
  "nbformat": 4,
  "nbformat_minor": 0
}