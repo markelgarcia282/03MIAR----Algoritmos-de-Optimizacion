{
  "cells": [
    {
      "cell_type": "markdown",
      "metadata": {
        "id": "view-in-github",
        "colab_type": "text"
      },
      "source": [
        "<a href=\"https://colab.research.google.com/github/markelgarcia282/03MIAR----Algoritmos-de-Optimizacion/blob/main/AG1/Markel_Garcia_AG1.ipynb\" target=\"_parent\"><img src=\"https://colab.research.google.com/assets/colab-badge.svg\" alt=\"Open In Colab\"/></a>"
      ]
    },
    {
      "cell_type": "markdown",
      "metadata": {
        "id": "J6OBxNmQoUnz"
      },
      "source": [
        "Nombre: Markel Garcia Ibarluzea  \n",
        "  \n",
        "Github: https://github.com/markelgarcia282/03MIAR----Algoritmos-de-Optimizacion"
      ]
    },
    {
      "cell_type": "code",
      "execution_count": null,
      "metadata": {
        "id": "d2j8FfG4oUn0"
      },
      "outputs": [],
      "source": [
        "from math import sqrt\n",
        "import random"
      ]
    },
    {
      "cell_type": "markdown",
      "metadata": {
        "id": "63yZ_33zoUn2"
      },
      "source": [
        "### Técnica Recursiva: Torres de Hanoi"
      ]
    },
    {
      "cell_type": "code",
      "execution_count": null,
      "metadata": {
        "id": "ErYRmoF-oUn3"
      },
      "outputs": [],
      "source": [
        "def Torres_Hanoi(n, desde, hasta):\n",
        "    \n",
        "    if n == 1:\n",
        "        # Si queda una sola ficha en la columna inicial, sencillamente la movemos a la final.\n",
        "        print(f'Llevar la ficha desde {desde} hasta {hasta}')\n",
        "\n",
        "    else:\n",
        "        # Calculamos cual es la columna pivote (la que no nos da el input).\n",
        "        otro = 6 - desde - hasta\n",
        "        \n",
        "        # Movemos todas las fichas excepto la última de la columna inicial a la columna pivote.\n",
        "        Torres_Hanoi(n-1, desde, otro)\n",
        "        \n",
        "        # Movemos la última ficha de la columna inicial a la columna final.\n",
        "        print(f'Llevar la ficha desde {desde} hasta {hasta}')\n",
        "        \n",
        "        # Movemos el resto de fichas n-1 de la columna inicial, que ahora están en la pivote porque las movimos, a la columna final.\n",
        "        Torres_Hanoi(n-1, otro, hasta)"
      ]
    },
    {
      "cell_type": "code",
      "execution_count": null,
      "metadata": {
        "id": "Xp96730toUn5",
        "outputId": "3bc2ffcb-1aa9-4618-a713-09e84f012d2d"
      },
      "outputs": [
        {
          "name": "stdout",
          "output_type": "stream",
          "text": [
            "Llevar la ficha desde 1 hasta 2\n",
            "Llevar la ficha desde 1 hasta 3\n",
            "Llevar la ficha desde 2 hasta 3\n",
            "Llevar la ficha desde 1 hasta 2\n",
            "Llevar la ficha desde 3 hasta 1\n",
            "Llevar la ficha desde 3 hasta 2\n",
            "Llevar la ficha desde 1 hasta 2\n",
            "Llevar la ficha desde 1 hasta 3\n",
            "Llevar la ficha desde 2 hasta 3\n",
            "Llevar la ficha desde 2 hasta 1\n",
            "Llevar la ficha desde 3 hasta 1\n",
            "Llevar la ficha desde 2 hasta 3\n",
            "Llevar la ficha desde 1 hasta 2\n",
            "Llevar la ficha desde 1 hasta 3\n",
            "Llevar la ficha desde 2 hasta 3\n"
          ]
        }
      ],
      "source": [
        "Torres_Hanoi(4, 1, 3)"
      ]
    },
    {
      "cell_type": "markdown",
      "metadata": {
        "id": "pV2g7AbyoUn7"
      },
      "source": [
        "### Técnica Voráz: Cambio de monedas"
      ]
    },
    {
      "cell_type": "code",
      "execution_count": null,
      "metadata": {
        "id": "IchZ3Ku5oUn8"
      },
      "outputs": [],
      "source": [
        "def cambio_monedas(cantidad, sistema_monetario):\n",
        "    \n",
        "    # Diccionario donde guardamos el número de monedas de cada tipo que devolveremos.\n",
        "    num_monedas = {}\n",
        "    \n",
        "    for moneda in sistema_monetario:\n",
        "        \n",
        "        # Calculamos la máxima cantidad de monedas de este tipo que podemos devolver.\n",
        "        n = cantidad//moneda\n",
        "        \n",
        "        # Calculamos la cantidad restante tras devolver las monedas.\n",
        "        cantidad -= n*moneda\n",
        "        \n",
        "        # Guardamos la cantidad de monedas de este tipo devueltas.\n",
        "        num_monedas[moneda] = n\n",
        "        \n",
        "    return num_monedas"
      ]
    },
    {
      "cell_type": "code",
      "execution_count": null,
      "metadata": {
        "id": "WqDX-U4_oUn9",
        "outputId": "a139db68-ff18-45c9-c8a5-7535d212c796"
      },
      "outputs": [
        {
          "data": {
            "text/plain": [
              "{25: 5, 10: 1, 5: 0, 1: 2}"
            ]
          },
          "execution_count": 8,
          "metadata": {},
          "output_type": "execute_result"
        }
      ],
      "source": [
        "cambio_monedas(137, [25, 10, 5, 1])"
      ]
    },
    {
      "cell_type": "markdown",
      "metadata": {
        "id": "bQX3yVoDoUn-"
      },
      "source": [
        "### Técnica Backtracking: N Reinas"
      ]
    },
    {
      "cell_type": "code",
      "execution_count": null,
      "metadata": {
        "id": "dHaeNjpHoUn_"
      },
      "outputs": [],
      "source": [
        "def es_prometedora(solucion, etapa):\n",
        "    \n",
        "    for i in range(etapa+1):\n",
        "        \n",
        "        # Comprobamos que la solución no tiene valores repetidos (reinas en la misma fila).\n",
        "        if solucion[i] in solucion[i+1:]:\n",
        "            return False\n",
        "        \n",
        "        for j in range(i+1, etapa+1):\n",
        "            \n",
        "            # Comprobamos que no hay dos reinas en la misma diagonal.\n",
        "            if abs(i-j) == abs(solucion[i] - solucion[j]):\n",
        "                return False\n",
        "            \n",
        "    return True"
      ]
    },
    {
      "cell_type": "code",
      "execution_count": null,
      "metadata": {
        "id": "KF1H2sh5oUoA"
      },
      "outputs": [],
      "source": [
        "def escribir_solucion(solucion):\n",
        "    \n",
        "    for i, s in enumerate(solucion):\n",
        "    \n",
        "        string = ['-']*len(solucion)\n",
        "        string[s-1] = str(i+1)\n",
        "        print(' '.join(string))\n",
        "    "
      ]
    },
    {
      "cell_type": "code",
      "execution_count": null,
      "metadata": {
        "id": "zlnrUEP5oUoB"
      },
      "outputs": [],
      "source": [
        "def reinas(N, solucion=None, etapa=0):\n",
        "    \n",
        "    if solucion is None:\n",
        "        solucion = [0]*N\n",
        "        \n",
        "    for i in range(1, N+1):\n",
        "        \n",
        "        solucion[etapa] = i\n",
        "        \n",
        "        # Comprobamos que la solución compla los requisitos para ser \"prometedora\". Si no lo es, dejamos de explorar este camino.\n",
        "        if es_prometedora(solucion, etapa):\n",
        "            \n",
        "            # Si es la última etapa y la solución ha cumplido los requisitos, es una solución final válida.\n",
        "            if etapa == N-1:\n",
        "                print(solucion)\n",
        "            \n",
        "            # Si es una solución prometedora, seguimos por este camino probando valores para la siguiente etapa.\n",
        "            else:\n",
        "                reinas(N, solucion, etapa+1)\n",
        "                \n",
        "        solucion[etapa] = 0"
      ]
    },
    {
      "cell_type": "code",
      "execution_count": null,
      "metadata": {
        "id": "ysssiiRioUoC",
        "outputId": "6eacac00-7a5d-474b-d897-7d400a361561"
      },
      "outputs": [
        {
          "name": "stdout",
          "output_type": "stream",
          "text": [
            "[2, 4, 1, 3]\n",
            "[3, 1, 4, 2]\n"
          ]
        }
      ],
      "source": [
        "reinas(4)"
      ]
    },
    {
      "cell_type": "code",
      "execution_count": null,
      "metadata": {
        "id": "KCG0b5HFoUoC",
        "outputId": "fe03f262-4386-41ce-8712-efd0cb90714c"
      },
      "outputs": [
        {
          "name": "stdout",
          "output_type": "stream",
          "text": [
            "Solucion 1:\n",
            "- 1 - -\n",
            "- - - 2\n",
            "3 - - -\n",
            "- - 4 -\n",
            "Solucion 2:\n",
            "- - 1 -\n",
            "2 - - -\n",
            "- - - 3\n",
            "- 4 - -\n"
          ]
        }
      ],
      "source": [
        "print('Solucion 1:')\n",
        "escribir_solucion([2, 4, 1, 3])\n",
        "print('Solucion 2:')\n",
        "escribir_solucion([3, 1, 4, 2])"
      ]
    },
    {
      "cell_type": "markdown",
      "metadata": {
        "id": "ngP0F48EoUoD"
      },
      "source": [
        "### Técnica Divide y Venceras: Distancia mínima entre dos puntos"
      ]
    },
    {
      "cell_type": "code",
      "execution_count": null,
      "metadata": {
        "id": "bpvgRr33oUoD"
      },
      "outputs": [],
      "source": [
        "def calc_distancia(punto_1, punto_2):\n",
        "    \n",
        "    if type(punto_1) == tuple:\n",
        "        return sqrt(sum([(a - b)**2 for a, b in zip(punto_1, punto_2)]))\n",
        "    \n",
        "    else:\n",
        "        return abs(punto_1 - punto_2)"
      ]
    },
    {
      "cell_type": "code",
      "execution_count": null,
      "metadata": {
        "id": "wrrCOeREoUoE"
      },
      "outputs": [],
      "source": [
        "def busqueda_exhaustiva(lista):\n",
        "    \n",
        "    # Asignamos una distancia muy grande al principio.\n",
        "    min_dist = float('inf')\n",
        "    \n",
        "    # Iteramos sobre todos los pares de puntos en la lista.\n",
        "    for i, l_1 in enumerate(lista):\n",
        "        for l_2 in lista[i+1:]:\n",
        "            \n",
        "            # Calculamos la distancia entre el par de puntos que estamos considerando en esta iteración.\n",
        "            dist = calc_distancia(l_1, l_2)\n",
        "\n",
        "            # Si la distancia entre estos puntos es menos que la distancia mínima encontrada hasta ahora, actualizamos.\n",
        "            if dist < min_dist:\n",
        "                min_dist = dist\n",
        "                puntos = (l_1, l_2)\n",
        "                \n",
        "    return min_dist, puntos"
      ]
    },
    {
      "cell_type": "markdown",
      "metadata": {
        "id": "wpxtRuWkoUoE"
      },
      "source": [
        "Dado que iteramos dos veces sobre la lista de puntos, este algoritmo tiene una complejidad computacional de $\\mathcal{O}(n^2)$. Podemos mejorar la eficiencia del algoritmo con el método de divide y vencerás. Consiste en lo siguiente: En lugar de iterar sobre todos los casos, dividiremos la lista de puntos por la mitad, recursivamente, hasta llegar a una lista de 3 o menos ejemplos. En este caso base, realizaremos búsqueda exhaustiva para encontrar el punto con distancia mínima. Después, para cada división, consideraremos las distancias mínimas obtenidas por las dos separaciones $\\delta_r$ y $\\delta_l$, y elegiremos la distancia mínima entre estas dos, $\\delta = min(\\delta_r, \\delta_l)$. Por último, analizaremos el rango de anchura $2\\delta$ centrada en el punto utilizad para separar la lista por la mitad, $[medio - \\delta, medio + \\delta]$."
      ]
    },
    {
      "cell_type": "code",
      "execution_count": null,
      "metadata": {
        "id": "aH04XIyVoUoF"
      },
      "outputs": [],
      "source": [
        "def divide_y_venceras(lista):\n",
        "    \n",
        "    # Cuando tenemos 3 o menos puntos en la lista, tenemos el caso base y buscamos los puntos más cercanos con busqueda exhaustiva.\n",
        "    if len(lista) <= 3:\n",
        "        return busqueda_exhaustiva(lista)\n",
        "\n",
        "    # Dividimos la lista por la mitad, obteniendo una lista con los puntos a la izquierda de la mitad, y otro con lo puntos a la derecha.\n",
        "    mid = len(lista)//2\n",
        "    punto_medio = lista[mid]\n",
        "    puntos_izq = lista[:mid]\n",
        "    puntos_der = lista[mid:]\n",
        "\n",
        "    # Buscamos recursivamente los puntos más cercanos en la parte derecha e izquierda de la lista inicial.\n",
        "    d_izq, (p_x, p_y) = divide_y_venceras(puntos_izq)\n",
        "    d_der, (q_x, q_y) = divide_y_venceras(puntos_der)\n",
        "    min_dist = min(d_izq, d_der)\n",
        "    \n",
        "    # Comprobamos si existen puntos dentro del rango [punto_medio - min_dist, punto_medio + min_dist] con distancia menor a la mínima encontrada hasta ahora.\n",
        "    # Caso múltiples dimensiones.\n",
        "    if type(punto_medio) == tuple:\n",
        "        cerca_medio = list(filter(lambda punto: punto[0] > punto_medio[0] - min_dist and punto[0] < punto_medio[0] + min_dist, lista))\n",
        "    # Caso 1 dimensión.\n",
        "    else:\n",
        "        cerca_medio = list(filter(lambda punto: punto > punto_medio - min_dist and punto < punto_medio + min_dist, lista))\n",
        "        \n",
        "    # Si existen puntos en el rango, comprobamos si la distancia mínima entre los puntos en este rango el menor al encontrado hasta ahora.\n",
        "    if len(cerca_medio)>1:\n",
        "        dist_cerca_medio, (r_x, r_y) = busqueda_exhaustiva(cerca_medio)\n",
        "        min_dist = min(min_dist, dist_cerca_medio)\n",
        "    \n",
        "    # Devolvemos los resultados.\n",
        "    if min_dist == d_izq:\n",
        "        return d_izq, (p_x, p_y)\n",
        "    elif min_dist == d_der:\n",
        "        return d_der, (q_x, q_y)\n",
        "    else:\n",
        "        return dist_cerca_medio, (r_x, r_y)"
      ]
    },
    {
      "cell_type": "markdown",
      "metadata": {
        "id": "oHgEfc_6oUoF"
      },
      "source": [
        "El algoritmo divide los puntos en dos partes y recursivamente computa la distancia mínima en cada parte. La complejidad de cada paso seguido para realizar esta tarea es:\n",
        "\n",
        " * Encontrar la distancia mínima $d$ entre las dos distancias mínimas para cada parte. Complejidad de $\\mathcal{O}(1)$.\n",
        " * Eliminar los puntos que se encuentran más lejos que $d$ con respecto a la línea que divide ambas partes. Complejidad de $\\mathcal{O}(n)$.\n",
        " * Ordenamos los puntos que nos quedan. Complejidad de $\\mathcal{O}(n\\log n)$.\n",
        " * Calculamos la distancia entre los puntos que nos quedan. Complejidad de $\\mathcal{O}(n)$.\n",
        " * Si alguna de las distancias encontradas es menor que $d$, actualizamos la distancia mínima. Complejidad de $\\mathcal{O}(1)$.\n",
        "\n",
        "Vemos que el paso dominante es la ordenación de los puntos, por lo que la complejidad total será $\\mathcal{O}(n\\log n)$. Además, como debemos aplicar estos pasos para cada nivel de recursión, la complejidad total será $\\mathcal{O}(n\\log^2 n)$."
      ]
    },
    {
      "cell_type": "markdown",
      "metadata": {
        "id": "AwVqughsoUoF"
      },
      "source": [
        "### Ejemplo: 1 dimensión"
      ]
    },
    {
      "cell_type": "code",
      "execution_count": null,
      "metadata": {
        "id": "hnSePto4oUoF"
      },
      "outputs": [],
      "source": [
        "lista_1d = [(random.randrange(1, 100000)) for _ in range(1000)]"
      ]
    },
    {
      "cell_type": "code",
      "execution_count": null,
      "metadata": {
        "id": "ocewARf7oUoG",
        "outputId": "0b9bd6ff-c485-4b51-cb37-0f812134d028"
      },
      "outputs": [
        {
          "name": "stdout",
          "output_type": "stream",
          "text": [
            "Distancia mínima: 0 entre los puntos 43111 y 43111\n",
            "CPU times: user 93.5 ms, sys: 0 ns, total: 93.5 ms\n",
            "Wall time: 92.4 ms\n"
          ]
        }
      ],
      "source": [
        "%%time\n",
        "min_dist, (punto_1, punto_2) = busqueda_exhaustiva(lista_1d)\n",
        "print(f'Distancia mínima: {min_dist} entre los puntos {punto_1} y {punto_2}')"
      ]
    },
    {
      "cell_type": "code",
      "execution_count": null,
      "metadata": {
        "id": "cg0pHzgIoUoH",
        "outputId": "5cc23692-006b-4ce2-ef64-7f79a072ef18"
      },
      "outputs": [
        {
          "name": "stdout",
          "output_type": "stream",
          "text": [
            "Distancia mínima: 0 entre los puntos 17952 y 17952\n",
            "CPU times: user 4.67 ms, sys: 3.24 ms, total: 7.91 ms\n",
            "Wall time: 7.77 ms\n"
          ]
        }
      ],
      "source": [
        "%%time\n",
        "min_dist, (punto_1, punto_2) = divide_y_venceras(sorted(lista_1d))\n",
        "print(f'Distancia mínima: {min_dist} entre los puntos {punto_1} y {punto_2}')"
      ]
    },
    {
      "cell_type": "markdown",
      "metadata": {
        "id": "Fwq-M5XEoUoH"
      },
      "source": [
        "### Ejemplo: 2 dimensiones"
      ]
    },
    {
      "cell_type": "code",
      "execution_count": null,
      "metadata": {
        "id": "d2bc83HCoUoH"
      },
      "outputs": [],
      "source": [
        "lista_2d = [(random.randrange(1, 100000), random.randrange(1, 100000)) for _ in range(1000)]"
      ]
    },
    {
      "cell_type": "code",
      "execution_count": null,
      "metadata": {
        "id": "IMOrAEN2oUoH",
        "outputId": "ac5da0dd-ac5f-4e84-9467-a3a1c4fe95c8"
      },
      "outputs": [
        {
          "name": "stdout",
          "output_type": "stream",
          "text": [
            "Distancia mínima: 97.65244492586962 entre los puntos (47672, 97563) y (47728, 97643)\n",
            "CPU times: user 588 ms, sys: 498 µs, total: 588 ms\n",
            "Wall time: 587 ms\n"
          ]
        }
      ],
      "source": [
        "%%time\n",
        "min_dist, (punto_1, punto_2) = busqueda_exhaustiva(lista_2d)\n",
        "print(f'Distancia mínima: {min_dist} entre los puntos {punto_1} y {punto_2}')"
      ]
    },
    {
      "cell_type": "code",
      "execution_count": null,
      "metadata": {
        "id": "E2PZVnE3oUoH",
        "outputId": "d4b46f0e-63a5-4d76-b94d-2cdf545055b4"
      },
      "outputs": [
        {
          "name": "stdout",
          "output_type": "stream",
          "text": [
            "Distancia mínima: 97.65244492586962 entre los puntos (47672, 97563) y (47728, 97643)\n",
            "CPU times: user 23.7 ms, sys: 0 ns, total: 23.7 ms\n",
            "Wall time: 23.3 ms\n"
          ]
        }
      ],
      "source": [
        "%%time\n",
        "min_dist, (punto_1, punto_2) = divide_y_venceras(sorted(lista_2d, key=lambda x: x[0]))\n",
        "print(f'Distancia mínima: {min_dist} entre los puntos {punto_1} y {punto_2}')"
      ]
    },
    {
      "cell_type": "markdown",
      "metadata": {
        "id": "r9xlSwCBoUoJ"
      },
      "source": [
        "### Ejemplo: 3 dimensiones"
      ]
    },
    {
      "cell_type": "code",
      "execution_count": null,
      "metadata": {
        "id": "AZs4JytyoUoJ"
      },
      "outputs": [],
      "source": [
        "lista_3d = [(random.randrange(1, 100000), random.randrange(1, 100000), random.randrange(1, 100000)) for _ in range(1000)]"
      ]
    },
    {
      "cell_type": "code",
      "execution_count": null,
      "metadata": {
        "id": "yWSZb2r_oUoJ",
        "outputId": "36c7d693-6759-4935-ca31-91c2d08b737a"
      },
      "outputs": [
        {
          "name": "stdout",
          "output_type": "stream",
          "text": [
            "Distancia mínima: 820.7764616507957 entre los puntos (6583, 56265, 11487) y (6011, 55694, 11630)\n",
            "CPU times: user 680 ms, sys: 0 ns, total: 680 ms\n",
            "Wall time: 679 ms\n"
          ]
        }
      ],
      "source": [
        "%%time\n",
        "min_dist, (punto_1, punto_2) = busqueda_exhaustiva(lista_3d)\n",
        "print(f'Distancia mínima: {min_dist} entre los puntos {punto_1} y {punto_2}')"
      ]
    },
    {
      "cell_type": "code",
      "execution_count": null,
      "metadata": {
        "id": "Tb-fdwr9oUoJ",
        "outputId": "ad211e28-8aa0-4deb-fadb-408976992c15"
      },
      "outputs": [
        {
          "name": "stdout",
          "output_type": "stream",
          "text": [
            "Distancia mínima: 820.7764616507957 entre los puntos (6011, 55694, 11630) y (6583, 56265, 11487)\n",
            "CPU times: user 78.4 ms, sys: 0 ns, total: 78.4 ms\n",
            "Wall time: 77.1 ms\n"
          ]
        }
      ],
      "source": [
        "%%time\n",
        "min_dist, (punto_1, punto_2) = divide_y_venceras(sorted(lista_3d, key=lambda x: x[0]))\n",
        "print(f'Distancia mínima: {min_dist} entre los puntos {punto_1} y {punto_2}')"
      ]
    },
    {
      "cell_type": "code",
      "execution_count": null,
      "metadata": {
        "id": "OqAm8yxcoUoK"
      },
      "outputs": [],
      "source": []
    }
  ],
  "metadata": {
    "kernelspec": {
      "display_name": "cv",
      "language": "python",
      "name": "python3"
    },
    "language_info": {
      "codemirror_mode": {
        "name": "ipython",
        "version": 3
      },
      "file_extension": ".py",
      "mimetype": "text/x-python",
      "name": "python",
      "nbconvert_exporter": "python",
      "pygments_lexer": "ipython3",
      "version": "3.10.5 | packaged by conda-forge | (main, Jun 14 2022, 07:04:59) [GCC 10.3.0]"
    },
    "orig_nbformat": 4,
    "vscode": {
      "interpreter": {
        "hash": "2aa0be2667d3f1aa35a9b7bcd640e5b5f6cd9b967b34dc2fd0e17af3c7894f67"
      }
    },
    "colab": {
      "provenance": [],
      "include_colab_link": true
    }
  },
  "nbformat": 4,
  "nbformat_minor": 0
}